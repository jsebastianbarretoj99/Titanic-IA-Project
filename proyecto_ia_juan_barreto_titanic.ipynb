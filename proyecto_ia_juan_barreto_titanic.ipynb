{
 "cells": [
  {
   "cell_type": "markdown",
   "metadata": {},
   "source": [
    "<a href=\"https://colab.research.google.com/github/jsebastianbarretoj99/Asignatura_Inteligencia_Artificial_5607/blob/master/Trabajo_Semana_03/Taller_Regresion_LIneal_juan_barreto.ipynb\" target=\"_parent\"><img src=\"https://colab.research.google.com/assets/colab-badge.svg\" alt=\"Open In Colab\"/></a>"
   ]
  },
  {
   "cell_type": "markdown",
   "metadata": {},
   "source": [
    "# Artificial Intelligence Project: Titanic - Machine learning from disaster\n"
   ]
  },
  {
   "cell_type": "markdown",
   "metadata": {},
   "source": [
    "Student: Juan Sebastián Barreto Jimenez"
   ]
  },
  {
   "cell_type": "markdown",
   "metadata": {},
   "source": [
    "<img src=\"Images/Titanic_problem.png\" width=\"600\"> \n",
    "\n",
    "Competition link in Kaggle: https://www.kaggle.com/c/titanic/"
   ]
  },
  {
   "cell_type": "markdown",
   "metadata": {},
   "source": [
    "## Libraries"
   ]
  },
  {
   "cell_type": "code",
   "execution_count": 49,
   "metadata": {},
   "outputs": [],
   "source": [
    "# Imports of the necessary libraries are carried out\n",
    "import numpy as np \n",
    "import pandas as pd \n",
    "import math\n",
    "from matplotlib import pyplot as plt\n",
    "from sklearn.preprocessing import StandardScaler\n",
    "from sklearn.model_selection import train_test_split\n",
    "from sklearn.decomposition import PCA\n",
    "from sklearn import svm, tree\n",
    "from sklearn.metrics import accuracy_score, f1_score, matthews_corrcoef\n",
    "from sklearn.naive_bayes import GaussianNB\n",
    "from sklearn.neighbors import KNeighborsClassifier\n",
    "from sklearn.ensemble import RandomForestClassifier"
   ]
  },
  {
   "cell_type": "markdown",
   "metadata": {},
   "source": [
    "## Data preparation"
   ]
  },
  {
   "cell_type": "markdown",
   "metadata": {},
   "source": [
    "### Load data"
   ]
  },
  {
   "cell_type": "code",
   "execution_count": 50,
   "metadata": {},
   "outputs": [],
   "source": [
    "# Load data\n",
    "data_df = pd.read_csv(\"train.csv\")"
   ]
  },
  {
   "cell_type": "code",
   "execution_count": 51,
   "metadata": {},
   "outputs": [
    {
     "name": "stdout",
     "output_type": "stream",
     "text": [
      "<class 'pandas.core.frame.DataFrame'>\n",
      "RangeIndex: 891 entries, 0 to 890\n",
      "Data columns (total 12 columns):\n",
      " #   Column       Non-Null Count  Dtype  \n",
      "---  ------       --------------  -----  \n",
      " 0   PassengerId  891 non-null    int64  \n",
      " 1   Survived     891 non-null    int64  \n",
      " 2   Pclass       891 non-null    int64  \n",
      " 3   Name         891 non-null    object \n",
      " 4   Sex          891 non-null    object \n",
      " 5   Age          714 non-null    float64\n",
      " 6   SibSp        891 non-null    int64  \n",
      " 7   Parch        891 non-null    int64  \n",
      " 8   Ticket       891 non-null    object \n",
      " 9   Fare         891 non-null    float64\n",
      " 10  Cabin        204 non-null    object \n",
      " 11  Embarked     889 non-null    object \n",
      "dtypes: float64(2), int64(5), object(5)\n",
      "memory usage: 83.7+ KB\n",
      "None\n"
     ]
    }
   ],
   "source": [
    "print(data_df.info())"
   ]
  },
  {
   "cell_type": "markdown",
   "metadata": {},
   "source": [
    "### Remove irrelevant data"
   ]
  },
  {
   "cell_type": "code",
   "execution_count": 19,
   "metadata": {},
   "outputs": [],
   "source": [
    "# Remove irrelevant data for prediction\n",
    "data_df = data_df.drop (['PassengerId','Name','Ticket'], axis = 1)"
   ]
  },
  {
   "cell_type": "code",
   "execution_count": 20,
   "metadata": {},
   "outputs": [
    {
     "name": "stdout",
     "output_type": "stream",
     "text": [
      "<class 'pandas.core.frame.DataFrame'>\n",
      "RangeIndex: 891 entries, 0 to 890\n",
      "Data columns (total 9 columns):\n",
      " #   Column    Non-Null Count  Dtype  \n",
      "---  ------    --------------  -----  \n",
      " 0   Survived  891 non-null    int64  \n",
      " 1   Pclass    891 non-null    int64  \n",
      " 2   Sex       891 non-null    object \n",
      " 3   Age       714 non-null    float64\n",
      " 4   SibSp     891 non-null    int64  \n",
      " 5   Parch     891 non-null    int64  \n",
      " 6   Fare      891 non-null    float64\n",
      " 7   Cabin     204 non-null    object \n",
      " 8   Embarked  889 non-null    object \n",
      "dtypes: float64(2), int64(4), object(3)\n",
      "memory usage: 62.8+ KB\n",
      "None\n"
     ]
    }
   ],
   "source": [
    "print(data_df.info())"
   ]
  },
  {
   "cell_type": "markdown",
   "metadata": {},
   "source": [
    "### Clean data of NaN"
   ]
  },
  {
   "cell_type": "code",
   "execution_count": 21,
   "metadata": {},
   "outputs": [],
   "source": [
    "# Delete column where NaN is more than half of the data.\n",
    "remove_attribute_nan = []\n",
    "cant_data = data_df.shape[0]\n",
    "for key, data in data_df.isnull().sum().items():\n",
    "    if data >= data_df.shape[0]/2:\n",
    "        remove_attribute_nan.append(key)\n",
    "data_df = data_df.drop (remove_attribute_nan, axis = 1)\n",
    "\n",
    "# Complete the two values NaN of Embarked with the mode\n",
    "cont_embarked = {'C':0, 'Q':0, 'S':0}\n",
    "position_nan = []\n",
    "cont_position = 0\n",
    "embarked_slice = data_df['Embarked'].copy()\n",
    "for data in embarked_slice:\n",
    "    if data == 'C':\n",
    "        cont_embarked['C'] += 1\n",
    "    elif data == 'Q':\n",
    "        cont_embarked['Q'] += 1\n",
    "    elif data == 'S':\n",
    "        cont_embarked['S'] += 1\n",
    "    elif math.isnan(data):\n",
    "        position_nan.append(cont_position)\n",
    "    cont_position += 1\n",
    "major = 0\n",
    "for key, cont in cont_embarked.items():\n",
    "    if cont > major:\n",
    "        embarked_mode = key\n",
    "        major = cont\n",
    "for i in position_nan:\n",
    "    embarked_slice[i] = embarked_mode\n",
    "\n",
    "data_df['Embarked'] = embarked_slice\n",
    "\n",
    "# Complete the 177 values NaN of age with random values with mean and standard deviation of the rest of data\n",
    "age_slice = data_df['Age'].copy()\n",
    "mean = age_slice.mean()\n",
    "std = age_slice.std()\n",
    "nan_values = age_slice.isnull().sum()\n",
    "rand_age = np.random.randint(mean - std, mean + std, size = nan_values)\n",
    "cont_position = 0\n",
    "position_nan.clear()\n",
    "\n",
    "for data in age_slice:\n",
    "    if math.isnan(data):\n",
    "        position_nan.append(cont_position)\n",
    "    cont_position += 1\n",
    "\n",
    "for i in range(len(position_nan)):\n",
    "    age_slice[position_nan[i]] = rand_age[i]\n",
    "\n",
    "data_df['Age'] = age_slice"
   ]
  },
  {
   "cell_type": "code",
   "execution_count": 22,
   "metadata": {},
   "outputs": [
    {
     "name": "stdout",
     "output_type": "stream",
     "text": [
      "<class 'pandas.core.frame.DataFrame'>\n",
      "RangeIndex: 891 entries, 0 to 890\n",
      "Data columns (total 8 columns):\n",
      " #   Column    Non-Null Count  Dtype  \n",
      "---  ------    --------------  -----  \n",
      " 0   Survived  891 non-null    int64  \n",
      " 1   Pclass    891 non-null    int64  \n",
      " 2   Sex       891 non-null    object \n",
      " 3   Age       891 non-null    float64\n",
      " 4   SibSp     891 non-null    int64  \n",
      " 5   Parch     891 non-null    int64  \n",
      " 6   Fare      891 non-null    float64\n",
      " 7   Embarked  891 non-null    object \n",
      "dtypes: float64(2), int64(4), object(2)\n",
      "memory usage: 55.8+ KB\n",
      "None\n"
     ]
    }
   ],
   "source": [
    "print(data_df.info())"
   ]
  },
  {
   "cell_type": "markdown",
   "metadata": {},
   "source": [
    "### Convert data"
   ]
  },
  {
   "cell_type": "code",
   "execution_count": 23,
   "metadata": {},
   "outputs": [],
   "source": [
    "# Convert sex: female = 0 - male = 1\n",
    "genders = {\"female\": 0, \"male\": 1}\n",
    "data_df['Sex'] = data_df['Sex'].map(genders)\n",
    "data_df['Sex'] = data_df['Sex'].astype(int)\n",
    "# Convert Embarked\n",
    "embarkeds = {'C': 0, 'Q': 1, 'S': 2}\n",
    "data_df['Embarked'] = data_df['Embarked'].map(embarkeds)\n",
    "data_df['Embarked'] = data_df['Embarked'].astype(int)\n",
    "# Convert Ages to int\n",
    "data_df['Age'] = data_df['Age'].astype(int)\n",
    "# Convert Fare to int\n",
    "data_df['Fare'] = data_df['Fare'].astype(int)"
   ]
  },
  {
   "cell_type": "code",
   "execution_count": 24,
   "metadata": {},
   "outputs": [
    {
     "name": "stdout",
     "output_type": "stream",
     "text": [
      "<class 'pandas.core.frame.DataFrame'>\n",
      "RangeIndex: 891 entries, 0 to 890\n",
      "Data columns (total 8 columns):\n",
      " #   Column    Non-Null Count  Dtype\n",
      "---  ------    --------------  -----\n",
      " 0   Survived  891 non-null    int64\n",
      " 1   Pclass    891 non-null    int64\n",
      " 2   Sex       891 non-null    int64\n",
      " 3   Age       891 non-null    int64\n",
      " 4   SibSp     891 non-null    int64\n",
      " 5   Parch     891 non-null    int64\n",
      " 6   Fare      891 non-null    int64\n",
      " 7   Embarked  891 non-null    int64\n",
      "dtypes: int64(8)\n",
      "memory usage: 55.8 KB\n",
      "None\n"
     ]
    }
   ],
   "source": [
    "print(data_df.info())"
   ]
  },
  {
   "cell_type": "markdown",
   "metadata": {},
   "source": [
    "### Creating new features"
   ]
  },
  {
   "cell_type": "code",
   "execution_count": 25,
   "metadata": {},
   "outputs": [],
   "source": [
    "# Number of relatives and Alone [1 - not alone | 0 - alone]\n",
    "relatives = []\n",
    "alone = []\n",
    "siblings = data_df['SibSp'].copy()\n",
    "parents = data_df['Parch'].copy()\n",
    "\n",
    "for i in range(cant_data):\n",
    "    sum_relatives = siblings[i] + parents[i]\n",
    "    relatives.append(sum_relatives)\n",
    "    if sum_relatives == 0:\n",
    "        alone.append(0)\n",
    "    else:\n",
    "        alone.append(1)\n",
    "\n",
    "data_df['Relatives'] = relatives\n",
    "data_df['Alone'] = alone\n",
    "data_df = data_df.drop (['SibSp','Parch'], axis = 1)\n",
    "\n",
    "# Change name of Labels\n",
    "survived = data_df['Survived'].copy()\n",
    "data_df['Y_Labels_Survived'] = survived\n",
    "data_df = data_df.drop (['Survived'], axis = 1)"
   ]
  },
  {
   "cell_type": "code",
   "execution_count": 26,
   "metadata": {},
   "outputs": [
    {
     "name": "stdout",
     "output_type": "stream",
     "text": [
      "<class 'pandas.core.frame.DataFrame'>\n",
      "RangeIndex: 891 entries, 0 to 890\n",
      "Data columns (total 8 columns):\n",
      " #   Column             Non-Null Count  Dtype\n",
      "---  ------             --------------  -----\n",
      " 0   Pclass             891 non-null    int64\n",
      " 1   Sex                891 non-null    int64\n",
      " 2   Age                891 non-null    int64\n",
      " 3   Fare               891 non-null    int64\n",
      " 4   Embarked           891 non-null    int64\n",
      " 5   Relatives          891 non-null    int64\n",
      " 6   Alone              891 non-null    int64\n",
      " 7   Y_Labels_Survived  891 non-null    int64\n",
      "dtypes: int64(8)\n",
      "memory usage: 55.8 KB\n",
      "None\n"
     ]
    }
   ],
   "source": [
    "print(data_df.info())"
   ]
  },
  {
   "cell_type": "markdown",
   "metadata": {},
   "source": [
    "### Creating groups"
   ]
  },
  {
   "cell_type": "code",
   "execution_count": 27,
   "metadata": {},
   "outputs": [
    {
     "data": {
      "image/png": "[encoded data removed]",
      "text/plain": [
       "<Figure size 432x288 with 1 Axes>"
      ]
     },
     "metadata": {
      "needs_background": "light"
     },
     "output_type": "display_data"
    }
   ],
   "source": [
    "# Analysis of age\n",
    "age_slice = data_df['Age'].copy()\n",
    "intervals = range(min(age_slice), max(age_slice) + 2,3)\n",
    "plt.hist(x=age_slice, bins=intervals, color='#F2AB6D', rwidth=0.85)\n",
    "plt.title('Histogram of ages')\n",
    "plt.xlabel('Ages')\n",
    "plt.ylabel('Frequency')\n",
    "plt.xticks(intervals)\n",
    "plt.show()"
   ]
  },
  {
   "cell_type": "code",
   "execution_count": 28,
   "metadata": {},
   "outputs": [
    {
     "data": {
      "image/png": "[encoded data removed]",
      "text/plain": [
       "<Figure size 432x288 with 1 Axes>"
      ]
     },
     "metadata": {
      "needs_background": "light"
     },
     "output_type": "display_data"
    }
   ],
   "source": [
    "# Analysis of fare\n",
    "fare_slice = data_df['Fare'].copy()\n",
    "intervals = range(min(fare_slice), max(fare_slice) + 2,10)\n",
    "plt.hist(x=fare_slice, bins=intervals, color='#F2AB6D', rwidth=0.85)\n",
    "plt.title('Histogram of Fares')\n",
    "plt.xlabel('Fares')\n",
    "plt.ylabel('Frequency')\n",
    "plt.xticks(intervals)\n",
    "plt.show()"
   ]
  },
  {
   "cell_type": "code",
   "execution_count": 29,
   "metadata": {},
   "outputs": [],
   "source": [
    "# Groups for ages: six groups\n",
    "# 0 - 0 -> 18\n",
    "# 1 - 18 -> 24\n",
    "# 2 - 24 -> 30\n",
    "# 3 - 30 -> 36\n",
    "# 4 - 36 -> 42\n",
    "# 5 - 42 -> 81\n",
    "age_slice = data_df['Age'].copy()\n",
    "age_slice_new = []\n",
    "for age in age_slice:\n",
    "    if age < 18:\n",
    "        age_slice_new.append(0)\n",
    "    elif age >= 18 and age < 24:\n",
    "        age_slice_new.append(1)\n",
    "    elif age >= 24 and age < 30:\n",
    "        age_slice_new.append(2)\n",
    "    elif age >= 30 and age < 36:\n",
    "        age_slice_new.append(3)\n",
    "    elif age >= 36 and age < 42:\n",
    "        age_slice_new.append(4)\n",
    "    elif age >= 42:\n",
    "        age_slice_new.append(5)\n",
    "\n",
    "data_df['Age'] = age_slice_new\n",
    "\n",
    "# Groups for fares: six groups\n",
    "# 0 - 0 -> 10\n",
    "# 1 - 10 -> 30\n",
    "# 2 - 30 -> oo\n",
    "fare_slice = data_df['Fare'].copy()\n",
    "fare_slice_new = []\n",
    "for fare in fare_slice:\n",
    "    if fare < 10:\n",
    "        fare_slice_new.append(0)\n",
    "    elif fare >= 10 and fare < 30:\n",
    "        fare_slice_new.append(1)\n",
    "    elif fare >= 30:\n",
    "        fare_slice_new.append(2)\n",
    "\n",
    "data_df['Fare'] = fare_slice_new"
   ]
  },
  {
   "cell_type": "code",
   "execution_count": 30,
   "metadata": {},
   "outputs": [
    {
     "name": "stdout",
     "output_type": "stream",
     "text": [
      "<class 'pandas.core.frame.DataFrame'>\n",
      "RangeIndex: 891 entries, 0 to 890\n",
      "Data columns (total 8 columns):\n",
      " #   Column             Non-Null Count  Dtype\n",
      "---  ------             --------------  -----\n",
      " 0   Pclass             891 non-null    int64\n",
      " 1   Sex                891 non-null    int64\n",
      " 2   Age                891 non-null    int64\n",
      " 3   Fare               891 non-null    int64\n",
      " 4   Embarked           891 non-null    int64\n",
      " 5   Relatives          891 non-null    int64\n",
      " 6   Alone              891 non-null    int64\n",
      " 7   Y_Labels_Survived  891 non-null    int64\n",
      "dtypes: int64(8)\n",
      "memory usage: 55.8 KB\n",
      "None\n"
     ]
    }
   ],
   "source": [
    "print(data_df.info())\n",
    "data_df.to_csv('data_titanic.csv',index=False)"
   ]
  },
  {
   "cell_type": "markdown",
   "metadata": {},
   "source": [
    "## Modelling"
   ]
  },
  {
   "cell_type": "markdown",
   "metadata": {},
   "source": [
    "### Load data"
   ]
  },
  {
   "cell_type": "code",
   "execution_count": 32,
   "metadata": {},
   "outputs": [],
   "source": [
    "# Load data\n",
    "data_df = pd.read_csv(\"data_titanic.csv\")\n",
    "y_data = data_df['Y_Labels_Survived'].to_numpy()\n",
    "data_df = data_df.drop (['Y_Labels_Survived'], axis = 1)\n",
    "\n",
    "X_data = data_df.to_numpy()\n",
    "\n",
    "# Separate dataset in train and test|\n",
    "X_train_p, X_test_p, y_train, y_test = train_test_split(X_data, y_data, test_size=0.20, random_state=0)\n",
    "# Normalization of data\n",
    "sc = StandardScaler()\n",
    "sc.fit(X_train_p)\n",
    "X_train = sc.transform(X_train_p)\n",
    "X_test = sc.transform(X_test_p)\n",
    "\n",
    "#PCA\n",
    "pca = PCA(n_components=6, svd_solver='full')\n",
    "X_train_pca = pca.fit_transform(X_train)\n",
    "X_test_pca = pca.fit_transform(X_test)"
   ]
  },
  {
   "cell_type": "markdown",
   "metadata": {},
   "source": [
    "### Implementation with Support Vector Machine Algorithm (SVM)"
   ]
  },
  {
   "cell_type": "code",
   "execution_count": 35,
   "metadata": {},
   "outputs": [
    {
     "name": "stdout",
     "output_type": "stream",
     "text": [
      "Metrics of SVM Model for Titanic Project:\n",
      "Accuracy: 83.24022346368714%\n",
      "F1: 83.24022346368714%\n",
      "MCC: 64.11510253512644%\n"
     ]
    }
   ],
   "source": [
    "m_svm = svm.SVC(C=15, kernel='poly') # Create model Naive Bayes Gaussian\n",
    "m_svm.fit(X_train, y_train) # Training of model\n",
    "y_pred = m_svm.predict(X_test)\n",
    "print(\"Metrics of SVM Model for Titanic Project:\")\n",
    "print(\"Accuracy: \"+ str(accuracy_score(y_test, y_pred)*100) + \"%\")\n",
    "print(\"F1: \"+ str(f1_score(y_test, y_pred, average='micro')*100) + \"%\")\n",
    "print(\"MCC: \"+ str(matthews_corrcoef(y_test, y_pred)*100) + \"%\")"
   ]
  },
  {
   "cell_type": "code",
   "execution_count": 34,
   "metadata": {},
   "outputs": [
    {
     "name": "stdout",
     "output_type": "stream",
     "text": [
      "Maximos: \n",
      "F1:  34\n",
      "MCC:  34\n",
      "Valor:  ['poly', 15]\n"
     ]
    }
   ],
   "source": [
    "kernels = ['linear', 'poly', 'rbf', 'sigmoid']\n",
    "\n",
    "#hyper_parameter_base = 1\n",
    "hyper_parameter_save = []\n",
    "accuracy = []\n",
    "f1 = []\n",
    "mcc = []\n",
    "\n",
    "for j in kernels:\n",
    "    for i in range(1,21):\n",
    "        hyper_parameter = i\n",
    "        hyper_parameter_save.append([j,hyper_parameter])\n",
    "        m_svm = svm.SVC(C=hyper_parameter, kernel=j) # Create model Naive Bayes Gaussian\n",
    "        m_svm.fit(X_train, y_train) # Training of model\n",
    "        y_pred = m_svm.predict(X_test)\n",
    "        accuracy.append(accuracy_score(y_test, y_pred)*100)\n",
    "        f1.append(f1_score(y_test, y_pred, average='micro')*100)\n",
    "        mcc.append(matthews_corrcoef(y_test, y_pred)*100)\n",
    "\n",
    "print(\"Maximos: \")\n",
    "point_max_f1 = np.argmax(np.array(f1))\n",
    "point_max_mcc = np.argmax(np.array(mcc))\n",
    "print(\"F1: \", point_max_f1)\n",
    "print(\"MCC: \", point_max_mcc)\n",
    "print(\"Valor: \", hyper_parameter_save[point_max_f1])"
   ]
  },
  {
   "cell_type": "markdown",
   "metadata": {},
   "source": [
    "### Implementation with Support Vector Machine Algorithm (SVM) with PCA"
   ]
  },
  {
   "cell_type": "code",
   "execution_count": 37,
   "metadata": {},
   "outputs": [
    {
     "name": "stdout",
     "output_type": "stream",
     "text": [
      "Metrics of SVM Model for Titanic Project:\n",
      "Accuracy: 69.27374301675978%\n",
      "F1: 69.27374301675978%\n",
      "MCC: 32.09468843573771%\n"
     ]
    }
   ],
   "source": [
    "m_svm = svm.SVC(C=15, kernel='poly') # Create model Naive Bayes Gaussian\n",
    "m_svm.fit(X_train_pca, y_train) # Training of model\n",
    "y_pred = m_svm.predict(X_test_pca)\n",
    "print(\"Metrics of SVM Model for Titanic Project:\")\n",
    "print(\"Accuracy: \"+ str(accuracy_score(y_test, y_pred)*100) + \"%\")\n",
    "print(\"F1: \"+ str(f1_score(y_test, y_pred, average='micro')*100) + \"%\")\n",
    "print(\"MCC: \"+ str(matthews_corrcoef(y_test, y_pred)*100) + \"%\")"
   ]
  },
  {
   "cell_type": "markdown",
   "metadata": {},
   "source": [
    "### Implementation with Decision Tree Algorithm"
   ]
  },
  {
   "cell_type": "code",
   "execution_count": 38,
   "metadata": {},
   "outputs": [
    {
     "name": "stdout",
     "output_type": "stream",
     "text": [
      "Metrics of Decision Tree model:\n",
      "Accuracy: 84.91620111731844%\n",
      "F1: 84.91620111731844%\n",
      "MCC: 67.78885859702577%\n",
      "\n",
      "Tree training:\n"
     ]
    }
   ],
   "source": [
    "clf = tree.DecisionTreeClassifier(ccp_alpha=1e-3) # Create model Decision Tree\n",
    "clf.fit(X_train, y_train) # Training of model\n",
    "#tree.plot_tree(clf)\n",
    "y_pred = clf.predict(X_test)\n",
    "print(\"Metrics of Decision Tree model:\")\n",
    "print(\"Accuracy: \"+ str(accuracy_score(y_test, y_pred)*100) + \"%\")\n",
    "print(\"F1: \"+ str(f1_score(y_test, y_pred, average='micro')*100) + \"%\")\n",
    "print(\"MCC: \"+ str(matthews_corrcoef(y_test, y_pred)*100) + \"%\")\n",
    "print(\"\\nTree training:\")"
   ]
  },
  {
   "cell_type": "markdown",
   "metadata": {},
   "source": [
    "### Implementation with Decision Tree Algorithm with PCA"
   ]
  },
  {
   "cell_type": "code",
   "execution_count": 39,
   "metadata": {},
   "outputs": [
    {
     "name": "stdout",
     "output_type": "stream",
     "text": [
      "Metrics of Decision Tree model:\n",
      "Accuracy: 80.44692737430168%\n",
      "F1: 80.44692737430168%\n",
      "MCC: 57.97961435260035%\n",
      "\n",
      "Tree training:\n"
     ]
    }
   ],
   "source": [
    "clf = tree.DecisionTreeClassifier() # Create model Decision Tree\n",
    "clf.fit(X_train_pca, y_train) # Training of model\n",
    "#tree.plot_tree(clf)\n",
    "y_pred = clf.predict(X_test_pca)\n",
    "print(\"Metrics of Decision Tree model:\")\n",
    "print(\"Accuracy: \"+ str(accuracy_score(y_test, y_pred)*100) + \"%\")\n",
    "print(\"F1: \"+ str(f1_score(y_test, y_pred, average='micro')*100) + \"%\")\n",
    "print(\"MCC: \"+ str(matthews_corrcoef(y_test, y_pred)*100) + \"%\")\n",
    "print(\"\\nTree training:\")"
   ]
  },
  {
   "cell_type": "markdown",
   "metadata": {},
   "source": [
    "### Implementation with Gaussian Naive Bayes Algorithm"
   ]
  },
  {
   "cell_type": "code",
   "execution_count": 40,
   "metadata": {},
   "outputs": [
    {
     "name": "stdout",
     "output_type": "stream",
     "text": [
      "Metrics of Naive Bayes Gaussian Model:\n",
      "Accuracy: 86.59217877094973%\n",
      "F1: 86.59217877094973%\n",
      "MCC: 71.44059403754409%\n"
     ]
    }
   ],
   "source": [
    "hyper_parameter= 1.0\n",
    "gnb = GaussianNB(var_smoothing=hyper_parameter) # Create model Naive Bayes Gaussian\n",
    "gnb.fit(X_train, y_train) # Training of model\n",
    "y_pred = gnb.predict(X_test)\n",
    "print(\"Metrics of Naive Bayes Gaussian Model:\")\n",
    "print(\"Accuracy: \"+ str(accuracy_score(y_test, y_pred)*100) + \"%\")\n",
    "print(\"F1: \"+ str(f1_score(y_test, y_pred, average='micro')*100) + \"%\")\n",
    "print(\"MCC: \"+ str(matthews_corrcoef(y_test, y_pred)*100) + \"%\")"
   ]
  },
  {
   "cell_type": "code",
   "execution_count": 41,
   "metadata": {},
   "outputs": [
    {
     "name": "stdout",
     "output_type": "stream",
     "text": [
      "Metrics of Naive Bayes Gaussian Model:\n"
     ]
    },
    {
     "data": {
      "image/png": "[encoded data removed]",
      "text/plain": [
       "<Figure size 432x288 with 1 Axes>"
      ]
     },
     "metadata": {
      "needs_background": "light"
     },
     "output_type": "display_data"
    },
    {
     "data": {
      "image/png": "[encoded data removed]",
      "text/plain": [
       "<Figure size 432x288 with 1 Axes>"
      ]
     },
     "metadata": {
      "needs_background": "light"
     },
     "output_type": "display_data"
    },
    {
     "data": {
      "image/png": "[encoded data removed]",
      "text/plain": [
       "<Figure size 432x288 with 1 Axes>"
      ]
     },
     "metadata": {
      "needs_background": "light"
     },
     "output_type": "display_data"
    },
    {
     "name": "stdout",
     "output_type": "stream",
     "text": [
      "Maximos: \n",
      "F1:  19\n",
      "MCC:  19\n",
      "Valor:  1.0\n"
     ]
    }
   ],
   "source": [
    "hyper_parameter_base = 1e-19\n",
    "hyper_parameter_save = []\n",
    "accuracy = []\n",
    "f1 = []\n",
    "mcc = []\n",
    "\n",
    "for i in range(100):\n",
    "    hyper_parameter = hyper_parameter_base*(10**i)\n",
    "    hyper_parameter_save.append(hyper_parameter)\n",
    "    gnb = GaussianNB(var_smoothing=hyper_parameter) # Create model Naive Bayes Gaussian\n",
    "    gnb.fit(X_train, y_train) # Training of model\n",
    "    y_pred = gnb.predict(X_test)\n",
    "    accuracy.append(accuracy_score(y_test, y_pred)*100)\n",
    "    f1.append(f1_score(y_test, y_pred, average='micro')*100)\n",
    "    mcc.append(matthews_corrcoef(y_test, y_pred)*100)\n",
    "print(\"Metrics of Naive Bayes Gaussian Model:\")\n",
    "# Accuracy of a Naive Bayes Gaussian Model\n",
    "plt.semilogx(hyper_parameter_save, accuracy) # Plot accuracy vs hyper_parameter_save\n",
    "plt.xlabel('Hyperparameter') # Set x label\n",
    "plt.ylabel('Accuracy (%)') # Set y label\n",
    "plt.title('Accuracy of a Naive Bayes Gaussian Model') # Set title\n",
    "plt.xlim(1e-19, 1e10) # Set x limits\n",
    "plt.grid() # On grid\n",
    "plt.show() # Show graph\n",
    "# F1 of a Naive Bayes Gaussian Model\n",
    "plt.semilogx(hyper_parameter_save, f1) # Plot F1 vs hyper_parameter_save\n",
    "plt.xlabel('Hyperparameter') # Set x label\n",
    "plt.ylabel('F1 (%)') # Set y label\n",
    "plt.title('F1 of a Naive Bayes Gaussian Model') # Set title\n",
    "plt.xlim(1e-19, 1e10) # Set x limits\n",
    "plt.grid() # On grid\n",
    "plt.show() # Show graph\n",
    "# MCC of a Naive Bayes Gaussian Model\n",
    "plt.semilogx(hyper_parameter_save, mcc) # Plot mcc vs hyper_parameter_save\n",
    "plt.xlabel('Hyperparameter') # Set x label\n",
    "plt.ylabel('MCC (%)') # Set y label\n",
    "plt.title('MCC of a Naive Bayes Gaussian Model') # Set title\n",
    "plt.xlim(1e-19, 1e10) # Set x limits\n",
    "plt.grid() # On grid\n",
    "plt.show() # Show graph\n",
    "\n",
    "print(\"Maximos: \")\n",
    "point_max_f1 = np.argmax(np.array(f1))\n",
    "point_max_mcc = np.argmax(np.array(mcc))\n",
    "print(\"F1: \", point_max_f1)\n",
    "print(\"MCC: \", point_max_mcc)\n",
    "print(\"Valor: \", hyper_parameter_save[point_max_f1])"
   ]
  },
  {
   "cell_type": "markdown",
   "metadata": {},
   "source": [
    "### Implementation with Gaussian Naive Bayes Algorithm with PCA"
   ]
  },
  {
   "cell_type": "code",
   "execution_count": 42,
   "metadata": {},
   "outputs": [
    {
     "name": "stdout",
     "output_type": "stream",
     "text": [
      "Metrics of Naive Bayes Gaussian Model:\n",
      "Accuracy: 70.94972067039106%\n",
      "F1: 70.94972067039106%\n",
      "MCC: 37.62700887840636%\n"
     ]
    }
   ],
   "source": [
    "hyper_parameter= 1.0\n",
    "gnb = GaussianNB(var_smoothing=hyper_parameter) # Create model Naive Bayes Gaussian\n",
    "gnb.fit(X_train_pca, y_train) # Training of model\n",
    "y_pred = gnb.predict(X_test_pca)\n",
    "print(\"Metrics of Naive Bayes Gaussian Model:\")\n",
    "print(\"Accuracy: \"+ str(accuracy_score(y_test, y_pred)*100) + \"%\")\n",
    "print(\"F1: \"+ str(f1_score(y_test, y_pred, average='micro')*100) + \"%\")\n",
    "print(\"MCC: \"+ str(matthews_corrcoef(y_test, y_pred)*100) + \"%\")"
   ]
  },
  {
   "cell_type": "markdown",
   "metadata": {},
   "source": [
    "### Implementation with KNN Algorithm"
   ]
  },
  {
   "cell_type": "code",
   "execution_count": 43,
   "metadata": {},
   "outputs": [
    {
     "name": "stdout",
     "output_type": "stream",
     "text": [
      "Metrics of KNN Model:\n",
      "Accuracy: 80.44692737430168%\n",
      "F1: 80.44692737430168%\n",
      "MCC: 58.26776556684719%\n"
     ]
    }
   ],
   "source": [
    "neigh = KNeighborsClassifier(n_neighbors=3) # Create model KNN\n",
    "neigh.fit(X_train, y_train) # Training of model\n",
    "y_pred = neigh.predict(X_test)\n",
    "print(\"Metrics of KNN Model:\")\n",
    "print(\"Accuracy: \"+ str(accuracy_score(y_test, y_pred)*100) + \"%\")\n",
    "print(\"F1: \"+ str(f1_score(y_test, y_pred, average='micro')*100) + \"%\")\n",
    "print(\"MCC: \"+ str(matthews_corrcoef(y_test, y_pred)*100) + \"%\")"
   ]
  },
  {
   "cell_type": "code",
   "execution_count": 44,
   "metadata": {},
   "outputs": [
    {
     "name": "stdout",
     "output_type": "stream",
     "text": [
      "Metrics of KNN Model:\n",
      "Accuracy: 78.77094972067039%\n",
      "F1: 78.77094972067039%\n",
      "MCC: 54.347780531902934%\n"
     ]
    }
   ],
   "source": [
    "neigh = KNeighborsClassifier(n_neighbors=3) # Create model KNN\n",
    "neigh.fit(X_train_pca, y_train) # Training of model\n",
    "y_pred = neigh.predict(X_test_pca)\n",
    "print(\"Metrics of KNN Model:\")\n",
    "print(\"Accuracy: \"+ str(accuracy_score(y_test, y_pred)*100) + \"%\")\n",
    "print(\"F1: \"+ str(f1_score(y_test, y_pred, average='micro')*100) + \"%\")\n",
    "print(\"MCC: \"+ str(matthews_corrcoef(y_test, y_pred)*100) + \"%\")"
   ]
  },
  {
   "cell_type": "markdown",
   "metadata": {},
   "source": [
    "### Implementation with Random Forest Algorithm"
   ]
  },
  {
   "cell_type": "code",
   "execution_count": 47,
   "metadata": {},
   "outputs": [
    {
     "name": "stdout",
     "output_type": "stream",
     "text": [
      "Metrics of Random Forest Model:\n",
      "Accuracy: 86.03351955307262%\n",
      "F1: 86.03351955307262%\n",
      "MCC: 70.20248916463878%\n"
     ]
    }
   ],
   "source": [
    "clf = RandomForestClassifier(random_state=0, n_estimators=18) # Create model Random Forest\n",
    "clf.fit(X_train, y_train) # Training of model\n",
    "y_pred = clf.predict(X_test)\n",
    "print(\"Metrics of Random Forest Model:\")\n",
    "print(\"Accuracy: \"+ str(accuracy_score(y_test, y_pred)*100) + \"%\")\n",
    "print(\"F1: \"+ str(f1_score(y_test, y_pred, average='micro')*100) + \"%\")\n",
    "print(\"MCC: \"+ str(matthews_corrcoef(y_test, y_pred)*100) + \"%\")"
   ]
  },
  {
   "cell_type": "code",
   "execution_count": 46,
   "metadata": {},
   "outputs": [
    {
     "name": "stdout",
     "output_type": "stream",
     "text": [
      "Metrics of Random Forest Model:\n"
     ]
    },
    {
     "data": {
      "image/png": "[encoded data removed]",
      "text/plain": [
       "<Figure size 432x288 with 1 Axes>"
      ]
     },
     "metadata": {
      "needs_background": "light"
     },
     "output_type": "display_data"
    },
    {
     "data": {
      "image/png": "[encoded data removed]",
      "text/plain": [
       "<Figure size 432x288 with 1 Axes>"
      ]
     },
     "metadata": {
      "needs_background": "light"
     },
     "output_type": "display_data"
    },
    {
     "data": {
      "image/png": "[encoded data removed]",
      "text/plain": [
       "<Figure size 432x288 with 1 Axes>"
      ]
     },
     "metadata": {
      "needs_background": "light"
     },
     "output_type": "display_data"
    },
    {
     "name": "stdout",
     "output_type": "stream",
     "text": [
      "Maximos: \n",
      "F1:  8\n",
      "MCC:  8\n",
      "Valor:  18\n",
      "Valor:  18\n"
     ]
    }
   ],
   "source": [
    "hyper_parameter_save = []\n",
    "accuracy = []\n",
    "f1 = []\n",
    "mcc = []\n",
    "\n",
    "for i in range(10,101):\n",
    "    hyper_parameter = i\n",
    "    hyper_parameter_save.append(hyper_parameter)\n",
    "    clf = RandomForestClassifier(n_estimators=hyper_parameter,random_state=0) # Create model Random Forest\n",
    "    clf.fit(X_train, y_train) # Training of model\n",
    "    y_pred = clf.predict(X_test)\n",
    "    accuracy.append(accuracy_score(y_test, y_pred)*100)\n",
    "    f1.append(f1_score(y_test, y_pred, average='micro')*100)\n",
    "    mcc.append(matthews_corrcoef(y_test, y_pred)*100)\n",
    "print(\"Metrics of Random Forest Model:\")\n",
    "# Accuracy of a Random Forest Model\n",
    "plt.semilogx(hyper_parameter_save, accuracy) # Plot accuracy vs hyper_parameter_save\n",
    "plt.xlabel('Hyperparameter') # Set x label\n",
    "plt.ylabel('Accuracy (%)') # Set y label\n",
    "plt.title('Accuracy of a Random Forest Model') # Set title\n",
    "plt.xlim(1,100) # Set x limits\n",
    "plt.grid() # On grid\n",
    "plt.show() # Show graph\n",
    "# F1 of a Random Forest Model\n",
    "plt.semilogx(hyper_parameter_save, f1) # Plot F1 vs hyper_parameter_save\n",
    "plt.xlabel('Hyperparameter') # Set x label\n",
    "plt.ylabel('F1 (%)') # Set y label\n",
    "plt.title('F1 of a Random Forest Model') # Set title\n",
    "plt.xlim(1,100) # Set x limits\n",
    "plt.grid() # On grid\n",
    "plt.show() # Show graph\n",
    "# MCC of a Random Forest Model\n",
    "plt.semilogx(hyper_parameter_save, mcc) # Plot mcc vs hyper_parameter_save\n",
    "plt.xlabel('Hyperparameter') # Set x label\n",
    "plt.ylabel('MCC (%)') # Set y label\n",
    "plt.title('MCC of a Random Forest Model') # Set title\n",
    "plt.xlim(1,100) # Set x limits\n",
    "plt.grid() # On grid\n",
    "plt.show() # Show graph\n",
    "\n",
    "print(\"Maximos: \")\n",
    "point_max_f1 = np.argmax(np.array(f1))\n",
    "point_max_mcc = np.argmax(np.array(mcc))\n",
    "print(\"F1: \", point_max_f1)\n",
    "print(\"MCC: \", point_max_mcc)\n",
    "print(\"Valor: \", hyper_parameter_save[point_max_f1])\n",
    "print(\"Valor: \", hyper_parameter_save[point_max_mcc])"
   ]
  },
  {
   "cell_type": "code",
   "execution_count": 48,
   "metadata": {},
   "outputs": [
    {
     "name": "stdout",
     "output_type": "stream",
     "text": [
      "Metrics of Random Forest Model:\n",
      "Accuracy: 79.3296089385475%\n",
      "F1: 79.3296089385475%\n",
      "MCC: 55.61319478328775%\n"
     ]
    }
   ],
   "source": [
    "clf = RandomForestClassifier(random_state=0, n_estimators=18) # Create model Random Forest\n",
    "clf.fit(X_train_pca, y_train) # Training of model\n",
    "y_pred = clf.predict(X_test_pca)\n",
    "print(\"Metrics of Random Forest Model:\")\n",
    "print(\"Accuracy: \"+ str(accuracy_score(y_test, y_pred)*100) + \"%\")\n",
    "print(\"F1: \"+ str(f1_score(y_test, y_pred, average='micro')*100) + \"%\")\n",
    "print(\"MCC: \"+ str(matthews_corrcoef(y_test, y_pred)*100) + \"%\")"
   ]
  },
  {
   "cell_type": "markdown",
   "metadata": {},
   "source": [
    "## Modelling Final: Implementation with Gaussian Naive Bayes Algorithm"
   ]
  },
  {
   "cell_type": "code",
   "execution_count": 476,
   "metadata": {},
   "outputs": [
    {
     "name": "stdout",
     "output_type": "stream",
     "text": [
      "Metrics of Naive Bayes Gaussian Model:\n",
      "Accuracy: 86.59217877094973%\n",
      "F1: 86.59217877094973%\n",
      "MCC: 71.5205608216001%\n"
     ]
    }
   ],
   "source": [
    "hyper_parameter= 1.0\n",
    "gnb = GaussianNB(var_smoothing=hyper_parameter) # Create model Naive Bayes Gaussian\n",
    "gnb.fit(X_train, y_train) # Training of model\n",
    "y_pred = gnb.predict(X_test)\n",
    "print(\"Metrics of Naive Bayes Gaussian Model:\")\n",
    "print(\"Accuracy: \"+ str(accuracy_score(y_test, y_pred)*100) + \"%\")\n",
    "print(\"F1: \"+ str(f1_score(y_test, y_pred, average='micro')*100) + \"%\")\n",
    "print(\"MCC: \"+ str(matthews_corrcoef(y_test, y_pred)*100) + \"%\")"
   ]
  }
 ],
 "metadata": {
  "interpreter": {
   "hash": "916dbcbb3f70747c44a77c7bcd40155683ae19c65e1c03b4aa3499c5328201f1"
  },
  "kernelspec": {
   "display_name": "Python 3.8.10 64-bit",
   "language": "python",
   "name": "python3"
  },
  "language_info": {
   "codemirror_mode": {
    "name": "ipython",
    "version": 3
   },
   "file_extension": ".py",
   "mimetype": "text/x-python",
   "name": "python",
   "nbconvert_exporter": "python",
   "pygments_lexer": "ipython3",
   "version": "3.8.10"
  },
  "orig_nbformat": 4
 },
 "nbformat": 4,
 "nbformat_minor": 2
}
